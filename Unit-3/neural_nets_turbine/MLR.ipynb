{
 "cells": [
  {
   "cell_type": "code",
   "execution_count": null,
   "metadata": {},
   "outputs": [],
   "source": [
    "from numpy import loadtxt\n",
    "import pandas as pd\n",
    "\n",
    "#load the data file\n",
    "data = loadtxt(\"turbine.dat\", skiprows=4)\n",
    "\n",
    "#convert it to a dataframe using the following fields: height over sea level, fall, net fall, flow, power\n",
    "df = pd.DataFrame(data, columns=['height', 'fall', 'net_fall', 'flow', 'power'])\n",
    "\n",
    "# Separate the input and output columns\n",
    "X = df.iloc[:, :-1]  # Select all columns except the last one\n",
    "y = df.iloc[:, -1]   # Select only the last column\n",
    "\n",
    "# Split the data into training and testing sets\n",
    "x_train = X.iloc[:400, :]  # Select the first 400 rows for training\n",
    "z_train = y.iloc[:400]\n",
    "x_test = X.iloc[400:, :]   # Select the last 50 rows for testing\n",
    "z_test = y.iloc[400:]\n"
   ]
  },
  {
   "cell_type": "code",
   "execution_count": null,
   "metadata": {},
   "outputs": [],
   "source": [
    "# ======= Multilinear Regression (MLR) =======\n",
    "\n",
    "# Analize the data using a linear regression model\n",
    "from sklearn import linear_model\n",
    "\n",
    "mlr = linear_model.LinearRegression()\n",
    "mlr.fit(x_train, z_train, 1)\n",
    "\n",
    "pred_train = mlr.predict(x_train)\n",
    "pred_test  = mlr.predict(x_test)\n",
    "\n",
    "err_train = 100 * sum(abs(pred_train - z_train)) / sum(z_train)\n",
    "err_test = 100 * sum(abs(pred_test - z_test)) / sum(z_test)\n"
   ]
  },
  {
   "cell_type": "code",
   "execution_count": null,
   "metadata": {},
   "outputs": [],
   "source": [
    "import matplotlib.pyplot as plt\n",
    "\n",
    "fig, ax = plt.subplots(figsize=(8, 8))\n",
    "\n",
    "# Plot the training set scatter with blue color\n",
    "ax.scatter(z_train, pred_train, c='blue', label='Training Set')\n",
    "\n",
    "# Plot the test set scatter with red color\n",
    "ax.scatter(z_test, pred_test, c='red', label='Test Set')\n",
    "\n",
    "ax.set_xlabel(\"real power\", fontsize=16)\n",
    "ax.set_ylabel(\"predicted power\", fontsize=16)\n",
    "\n",
    "ax.text(0.05, 0.9, \"Prediction error TEST (MLR) = %.2f%%\\n\" % err_train, transform=ax.transAxes, fontsize=16)\n",
    "ax.text(0.05, 0.85, \"Prediction error TRAIN (MLR) = %.2f%%\\n\" % err_test, transform=ax.transAxes, fontsize=16)\n",
    "\n",
    "# Add a legend to the plot\n",
    "ax.legend(loc='lower right', fontsize=14)\n",
    "\n",
    "#fig.savefig(\"turbine-mlr-test.png\", bbox_inches='tight')\n",
    "plt.show()"
   ]
  }
 ],
 "metadata": {
  "kernelspec": {
   "display_name": "Python 3",
   "language": "python",
   "name": "python3"
  },
  "language_info": {
   "codemirror_mode": {
    "name": "ipython",
    "version": 3
   },
   "file_extension": ".py",
   "mimetype": "text/x-python",
   "name": "python",
   "nbconvert_exporter": "python",
   "pygments_lexer": "ipython3",
   "version": "3.11.6"
  }
 },
 "nbformat": 4,
 "nbformat_minor": 2
}
